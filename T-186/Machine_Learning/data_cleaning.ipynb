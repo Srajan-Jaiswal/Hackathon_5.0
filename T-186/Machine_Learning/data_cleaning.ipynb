{
 "cells": [
  {
   "cell_type": "code",
   "execution_count": null,
   "metadata": {},
   "outputs": [],
   "source": [
    "from keras.preprocessing.image import img_to_array,load_img\n",
    "import numpy as np\n",
    "import glob\n",
    "import os \n",
    "import cv2\n",
    "import imutils"
   ]
  },
  {
   "cell_type": "code",
   "execution_count": null,
   "metadata": {},
   "outputs": [],
   "source": [
    "store_image=[]\n",
    "train_path='E://handy//ml1//train'\n",
    "fps=5\n",
    "train_videos=os.listdir('E://handy//ml1//train//training_videos')\n",
    "train_images_path=train_path+'/frames'\n",
    "try:\n",
    "    os.makedirs(train_images_path)\n",
    "except FileExistsError:\n",
    "    pass\n",
    "    \n",
    "def store_inarray(image_path):\n",
    "    image=load_img(image_path)\n",
    "    image=img_to_array(image)\n",
    "    image=cv2.resize(image, (227,227), interpolation = cv2.INTER_AREA)\n",
    "    gray=0.2989*image[:,:,0]+0.5870*image[:,:,1]+0.1140*image[:,:,2]\n",
    "    store_image.append(gray)\n"
   ]
  },
  {
   "cell_type": "code",
   "execution_count": null,
   "metadata": {},
   "outputs": [],
   "source": [
    "for video in train_videos:\n",
    "    os.system( 'ffmpeg -i E://handy//ml1//train//training_videos//{} -r 1/{}  E://handy//ml1//train//frames/%03d.jpg'.format(video,fps))\n",
    "    images=os.listdir(train_images_path)\n",
    "    for image in images:\n",
    "        image_path=train_images_path + '/' + image\n",
    "        store_inarray(image_path)"
   ]
  },
  {
   "cell_type": "code",
   "execution_count": null,
   "metadata": {},
   "outputs": [],
   "source": [
    "import matplotlib.pyplot as plt\n",
    "import matplotlib.image as mpimg\n",
    "\n",
    "def rotate(image, angle=90, scale=1.0):\n",
    "        w = image.shape[1]\n",
    "        h = image.shape[0]\n",
    "        M = cv2.getRotationMatrix2D((w/2,h/2), angle, scale)\n",
    "        image = cv2.warpAffine(image,M,(w,h))\n",
    "        \n",
    "        kernel = np.ones((5, 5), np.uint8)\n",
    "        image = cv2.dilate(image, kernel, iterations = 1)\n",
    "        image = cv2.erode(image, kernel, iterations = 1)\n",
    "        return image\n",
    "def flip(image, vflip=False, hflip=False):\n",
    "        if hflip or vflip:\n",
    "            if hflip and vflip:\n",
    "                c = -1\n",
    "            else:\n",
    "                c = 0 if vflip else 1\n",
    "            image = cv2.flip(image, flipCode=c)\n",
    "        return image \n",
    "    \n",
    "def clean:  \n",
    "    images=os.listdir(train_images_path)\n",
    "    for image in images:\n",
    "            image_path=train_images_path + '/' + image\n",
    "            img = mpimg.imread(image_path)\n",
    "            plt.imshow(img)\n",
    "            plt.show()\n",
    "            gray = cv2.cvtColor(img, cv2.COLOR_BGR2GRAY)\n",
    "            plt.imshow(gray, cmap=\"gray\", vmin=0, vmax=255)\n",
    "            plt.show()\n",
    "            img_flip = flip(gray, vflip=True, hflip=False)\n",
    "            img_rot = rotate(img_flip)\n",
    "            imgplot = plt.imshow(img_rot, cmap=\"gray\", vmin=0, vmax=255)\n",
    "            "
   ]
  }
 ],
 "metadata": {
  "kernelspec": {
   "display_name": "Python 3",
   "language": "python",
   "name": "python3"
  },
  "language_info": {
   "codemirror_mode": {
    "name": "ipython",
    "version": 3
   },
   "file_extension": ".py",
   "mimetype": "text/x-python",
   "name": "python",
   "nbconvert_exporter": "python",
   "pygments_lexer": "ipython3",
   "version": "3.7.6"
  }
 },
 "nbformat": 4,
 "nbformat_minor": 4
}
